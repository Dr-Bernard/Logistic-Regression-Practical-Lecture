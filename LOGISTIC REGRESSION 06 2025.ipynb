{
 "cells": [
  {
   "cell_type": "markdown",
   "id": "026ea976",
   "metadata": {},
   "source": [
    "Step 1: Import dependencies"
   ]
  },
  {
   "cell_type": "code",
   "execution_count": 1,
   "id": "0ea04582",
   "metadata": {},
   "outputs": [],
   "source": [
    "# Import StandardScaler from sklearn.preprocessing\n",
    "from sklearn.preprocessing import StandardScaler\n",
    "# Import LogisticRegression from sklearn.linear_model.\n",
    "from sklearn.linear_model import LogisticRegression"
   ]
  },
  {
   "cell_type": "markdown",
   "id": "1e324b04",
   "metadata": {},
   "source": [
    "Step 2: Define the dataset"
   ]
  },
  {
   "cell_type": "code",
   "execution_count": 2,
   "id": "623ab763",
   "metadata": {},
   "outputs": [],
   "source": [
    "# Each item in X denotes the rent and area\n",
    "# y indicates whether to rent the room (0: no; 1: yes).\n",
    "X=[[2200,15],[2750,20],[5000,40],[4000,20],[3300,20],[2000,10],[2500,12],[12000,80],[2880,10],[2300,15],[1500,10],[3000,8],[2000,14],[2000,10],[2150,8],[3400,20],[5000,20],[4000,10],[3300,15],[2000,12],[2500,14],[10000,100],[3150,10],[2950,15],[1500,5],[3000,18],[8000,12],[2220,14],[6000,100],[3050,10]]\n",
    "\n",
    "y=[1,1,0,0,1,1,1,1,0,1,1,0,1,1,0,1,0,0,0,1,1,1,0,1,0,1,0,1,1,0]\n"
   ]
  },
  {
   "cell_type": "markdown",
   "id": "4ef5e9ec",
   "metadata": {},
   "source": [
    "Step 3 Preprocess data\n",
    "\n",
    "Standardize data to ensure that the variance of feature data in each dimension is 1 and the mean is 0. In this way, the prediction result is not dominated by large feature values of some dimensions.\n",
    "\n",
    "Input:"
   ]
  },
  {
   "cell_type": "code",
   "execution_count": 4,
   "id": "d7ff0541",
   "metadata": {},
   "outputs": [],
   "source": [
    "ss = StandardScaler()\n",
    "X_train = ss.fit_transform(X)"
   ]
  },
  {
   "cell_type": "code",
   "execution_count": 5,
   "id": "366834af",
   "metadata": {},
   "outputs": [
    {
     "name": "stdout",
     "output_type": "stream",
     "text": [
      "[[-0.60583897 -0.29313058]\n",
      " [-0.37682768 -0.09050576]\n",
      " [ 0.56003671  0.71999355]\n",
      " [ 0.14365254 -0.09050576]\n",
      " [-0.14781638 -0.09050576]\n",
      " [-0.68911581 -0.49575541]\n",
      " [-0.48092372 -0.41470548]\n",
      " [ 3.47472592  2.34099218]\n",
      " [-0.32269773 -0.49575541]\n",
      " [-0.56420055 -0.29313058]\n",
      " [-0.89730789 -0.49575541]\n",
      " [-0.27273163 -0.57680534]\n",
      " [-0.68911581 -0.33365555]\n",
      " [-0.68911581 -0.49575541]\n",
      " [-0.62665818 -0.57680534]\n",
      " [-0.10617796 -0.09050576]\n",
      " [ 0.56003671 -0.09050576]\n",
      " [ 0.14365254 -0.49575541]\n",
      " [-0.14781638 -0.29313058]\n",
      " [-0.68911581 -0.41470548]\n",
      " [-0.48092372 -0.33365555]\n",
      " [ 2.64195758  3.15149149]\n",
      " [-0.21027401 -0.49575541]\n",
      " [-0.29355084 -0.29313058]\n",
      " [-0.89730789 -0.69838024]\n",
      " [-0.27273163 -0.17155569]\n",
      " [ 1.80918923 -0.41470548]\n",
      " [-0.59751129 -0.33365555]\n",
      " [ 0.97642089  3.15149149]\n",
      " [-0.25191242 -0.49575541]]\n"
     ]
    }
   ],
   "source": [
    "print(X_train)"
   ]
  },
  {
   "cell_type": "markdown",
   "id": "a2aabb9e",
   "metadata": {},
   "source": [
    "Step 4: Fit the data\n",
    "\n",
    "Input:"
   ]
  },
  {
   "cell_type": "code",
   "execution_count": 6,
   "id": "a55d7881",
   "metadata": {},
   "outputs": [
    {
     "data": {
      "text/plain": [
       "LogisticRegression()"
      ]
     },
     "execution_count": 6,
     "metadata": {},
     "output_type": "execute_result"
    }
   ],
   "source": [
    "# Use the fit method of LogisticRegression to train model parameter.\n",
    "lr = LogisticRegression()\n",
    "lr.fit(X_train,y)"
   ]
  },
  {
   "cell_type": "markdown",
   "id": "486521a7",
   "metadata": {},
   "source": [
    "Step 5: Predict the data.\n",
    "\n",
    "Input:"
   ]
  },
  {
   "cell_type": "code",
   "execution_count": 7,
   "id": "ce8a5573",
   "metadata": {},
   "outputs": [
    {
     "name": "stdout",
     "output_type": "stream",
     "text": [
      "Value to be predicted:  [[-0.68911581 -0.57680534]]\n",
      "predicted label =  [1]\n",
      "probability =  [[0.41886952 0.58113048]]\n"
     ]
    }
   ],
   "source": [
    "testX = [[2000,8]]\n",
    "X_test = ss.transform(testX)\n",
    "print(\"Value to be predicted: \",X_test)\n",
    "label = lr.predict(X_test)\n",
    "print(\"predicted label = \",label)\n",
    "# Output the predicted probability.\n",
    "prob = lr.predict_proba(X_test)\n",
    "print(\"probability = \",prob)"
   ]
  },
  {
   "cell_type": "code",
   "execution_count": null,
   "id": "252d897b",
   "metadata": {},
   "outputs": [],
   "source": []
  }
 ],
 "metadata": {
  "kernelspec": {
   "display_name": "Python 3 (ipykernel)",
   "language": "python",
   "name": "python3"
  },
  "language_info": {
   "codemirror_mode": {
    "name": "ipython",
    "version": 3
   },
   "file_extension": ".py",
   "mimetype": "text/x-python",
   "name": "python",
   "nbconvert_exporter": "python",
   "pygments_lexer": "ipython3",
   "version": "3.9.12"
  }
 },
 "nbformat": 4,
 "nbformat_minor": 5
}
